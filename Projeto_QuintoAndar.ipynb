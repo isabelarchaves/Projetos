{
  "nbformat": 4,
  "nbformat_minor": 0,
  "metadata": {
    "colab": {
      "provenance": [],
      "include_colab_link": true
    },
    "kernelspec": {
      "name": "python3",
      "display_name": "Python 3"
    },
    "language_info": {
      "name": "python"
    }
  },
  "cells": [
    {
      "cell_type": "markdown",
      "metadata": {
        "id": "view-in-github",
        "colab_type": "text"
      },
      "source": [
        "<a href=\"https://colab.research.google.com/github/isabelarchaves/Projetos_Python/blob/main/Projeto_QuintoAndar.ipynb\" target=\"_parent\"><img src=\"https://colab.research.google.com/assets/colab-badge.svg\" alt=\"Open In Colab\"/></a>"
      ]
    },
    {
      "cell_type": "markdown",
      "source": [
        "# **Projeto Prático - Maratona Analista de Dados**"
      ],
      "metadata": {
        "id": "KdGnlUMNCooK"
      }
    },
    {
      "cell_type": "markdown",
      "source": [
        "## **Etapa 1 - Entendendo o problema** "
      ],
      "metadata": {
        "id": "5iGi65CSC2Tv"
      }
    },
    {
      "cell_type": "markdown",
      "source": [
        "* **Problema** - Você foi contratado pela Quinto Andar para ser Analista de Dados. A sua primeira tarefa é analisar um conjunto de dados sobre preço de aluguel casas e responder as seguintes perguntas:\n",
        "\n",
        "1. Em quais cidades se concentram a maior quantidade de casas?\n",
        "2. Em quais cidades estão os imóveis com maior preço de aluguel?\n",
        "3. Ter animais impacta no preço do aluguel?\n",
        "4. As casas mobiliadas possuem um preço de aluguel mais alto?"
      ],
      "metadata": {
        "id": "KIYpTFbHC-6q"
      }
    },
    {
      "cell_type": "markdown",
      "source": [
        "## **Etapa 2 - Coletando e conhecendo os dados**"
      ],
      "metadata": {
        "id": "WN5dXOSrDh7J"
      }
    },
    {
      "cell_type": "markdown",
      "source": [
        "- A equipe realizou a extração dos dados diretamente do Banco e forneceu a você um conjunto de dados no formato Excel contendo variáveis importantes e que podem ser úteis para responder essas perguntas.\n",
        "    - Cidade que as casas se localizam;\n",
        "    - Área em metros quadrados da casa\n",
        "    - Quantidade de quartos;\n",
        "    - Quantidade de banheiros;\n",
        "    - Quantidade de vagas de Estacionamento;\n",
        "    - Andar da casa;\n",
        "    - Se aceita animais;\n",
        "    - Preço da taxa de condomínio;\n",
        "    - Preço do aluguel;\n",
        "    - Preço da Taxa de IPTU;\n",
        "    - Preço da Taxa de Incêndio;\n",
        "    - Preço total do aluguel."
      ],
      "metadata": {
        "id": "lLUM3g1XEMHf"
      }
    },
    {
      "cell_type": "code",
      "source": [
        "import pandas as pd\n",
        "import seaborn as sns\n",
        "import matplotlib.pyplot as plt\n",
        "import numpy as np\n",
        "\n",
        "sns.set(style='ticks')"
      ],
      "metadata": {
        "id": "l8rz4shREZ29"
      },
      "execution_count": 1,
      "outputs": []
    },
    {
      "cell_type": "code",
      "source": [
        "df = pd.read_excel('casas_para_aluguel.xlsx')"
      ],
      "metadata": {
        "id": "zEuGZnIoGuL9"
      },
      "execution_count": 4,
      "outputs": []
    },
    {
      "cell_type": "code",
      "source": [
        "df.head()"
      ],
      "metadata": {
        "colab": {
          "base_uri": "https://localhost:8080/",
          "height": 357
        },
        "id": "OdIfigN7G7AH",
        "outputId": "efdf9c76-7987-4f68-e47b-5cb804e30048"
      },
      "execution_count": 5,
      "outputs": [
        {
          "output_type": "execute_result",
          "data": {
            "text/plain": [
              "         cidade   area  quartos  banheiros  vagas_estacionamento andar animal  \\\n",
              "0     São Paulo   70.0      2.0        1.0                   1.0     7    sim   \n",
              "1     São Paulo  320.0      4.0        4.0                   0.0    20    sim   \n",
              "2  Porto Alegre   80.0      1.0        1.0                   1.0     6    sim   \n",
              "3  Porto Alegre   51.0      2.0        1.0                   0.0     2    sim   \n",
              "4     São Paulo   25.0      1.0        1.0                   0.0     1    nao   \n",
              "\n",
              "  mobiliado  taxa_condominio  preco_aluguel  taxa_iptu  taxa_incendio  \\\n",
              "0       sim           2065.0         3300.0      211.0           42.0   \n",
              "1       nao           1200.0         4960.0     1750.0           63.0   \n",
              "2       nao           1000.0         2800.0        0.0           41.0   \n",
              "3       nao            270.0         1112.0       22.0           17.0   \n",
              "4       nao              0.0          800.0       25.0           11.0   \n",
              "\n",
              "   total_aluguel  \n",
              "0         5618.0  \n",
              "1         7973.0  \n",
              "2         3841.0  \n",
              "3         1421.0  \n",
              "4          836.0  "
            ],
            "text/html": [
              "\n",
              "  <div id=\"df-79f7147c-43b7-4f15-8eab-d4fe1eba80e6\">\n",
              "    <div class=\"colab-df-container\">\n",
              "      <div>\n",
              "<style scoped>\n",
              "    .dataframe tbody tr th:only-of-type {\n",
              "        vertical-align: middle;\n",
              "    }\n",
              "\n",
              "    .dataframe tbody tr th {\n",
              "        vertical-align: top;\n",
              "    }\n",
              "\n",
              "    .dataframe thead th {\n",
              "        text-align: right;\n",
              "    }\n",
              "</style>\n",
              "<table border=\"1\" class=\"dataframe\">\n",
              "  <thead>\n",
              "    <tr style=\"text-align: right;\">\n",
              "      <th></th>\n",
              "      <th>cidade</th>\n",
              "      <th>area</th>\n",
              "      <th>quartos</th>\n",
              "      <th>banheiros</th>\n",
              "      <th>vagas_estacionamento</th>\n",
              "      <th>andar</th>\n",
              "      <th>animal</th>\n",
              "      <th>mobiliado</th>\n",
              "      <th>taxa_condominio</th>\n",
              "      <th>preco_aluguel</th>\n",
              "      <th>taxa_iptu</th>\n",
              "      <th>taxa_incendio</th>\n",
              "      <th>total_aluguel</th>\n",
              "    </tr>\n",
              "  </thead>\n",
              "  <tbody>\n",
              "    <tr>\n",
              "      <th>0</th>\n",
              "      <td>São Paulo</td>\n",
              "      <td>70.0</td>\n",
              "      <td>2.0</td>\n",
              "      <td>1.0</td>\n",
              "      <td>1.0</td>\n",
              "      <td>7</td>\n",
              "      <td>sim</td>\n",
              "      <td>sim</td>\n",
              "      <td>2065.0</td>\n",
              "      <td>3300.0</td>\n",
              "      <td>211.0</td>\n",
              "      <td>42.0</td>\n",
              "      <td>5618.0</td>\n",
              "    </tr>\n",
              "    <tr>\n",
              "      <th>1</th>\n",
              "      <td>São Paulo</td>\n",
              "      <td>320.0</td>\n",
              "      <td>4.0</td>\n",
              "      <td>4.0</td>\n",
              "      <td>0.0</td>\n",
              "      <td>20</td>\n",
              "      <td>sim</td>\n",
              "      <td>nao</td>\n",
              "      <td>1200.0</td>\n",
              "      <td>4960.0</td>\n",
              "      <td>1750.0</td>\n",
              "      <td>63.0</td>\n",
              "      <td>7973.0</td>\n",
              "    </tr>\n",
              "    <tr>\n",
              "      <th>2</th>\n",
              "      <td>Porto Alegre</td>\n",
              "      <td>80.0</td>\n",
              "      <td>1.0</td>\n",
              "      <td>1.0</td>\n",
              "      <td>1.0</td>\n",
              "      <td>6</td>\n",
              "      <td>sim</td>\n",
              "      <td>nao</td>\n",
              "      <td>1000.0</td>\n",
              "      <td>2800.0</td>\n",
              "      <td>0.0</td>\n",
              "      <td>41.0</td>\n",
              "      <td>3841.0</td>\n",
              "    </tr>\n",
              "    <tr>\n",
              "      <th>3</th>\n",
              "      <td>Porto Alegre</td>\n",
              "      <td>51.0</td>\n",
              "      <td>2.0</td>\n",
              "      <td>1.0</td>\n",
              "      <td>0.0</td>\n",
              "      <td>2</td>\n",
              "      <td>sim</td>\n",
              "      <td>nao</td>\n",
              "      <td>270.0</td>\n",
              "      <td>1112.0</td>\n",
              "      <td>22.0</td>\n",
              "      <td>17.0</td>\n",
              "      <td>1421.0</td>\n",
              "    </tr>\n",
              "    <tr>\n",
              "      <th>4</th>\n",
              "      <td>São Paulo</td>\n",
              "      <td>25.0</td>\n",
              "      <td>1.0</td>\n",
              "      <td>1.0</td>\n",
              "      <td>0.0</td>\n",
              "      <td>1</td>\n",
              "      <td>nao</td>\n",
              "      <td>nao</td>\n",
              "      <td>0.0</td>\n",
              "      <td>800.0</td>\n",
              "      <td>25.0</td>\n",
              "      <td>11.0</td>\n",
              "      <td>836.0</td>\n",
              "    </tr>\n",
              "  </tbody>\n",
              "</table>\n",
              "</div>\n",
              "      <button class=\"colab-df-convert\" onclick=\"convertToInteractive('df-79f7147c-43b7-4f15-8eab-d4fe1eba80e6')\"\n",
              "              title=\"Convert this dataframe to an interactive table.\"\n",
              "              style=\"display:none;\">\n",
              "        \n",
              "  <svg xmlns=\"http://www.w3.org/2000/svg\" height=\"24px\"viewBox=\"0 0 24 24\"\n",
              "       width=\"24px\">\n",
              "    <path d=\"M0 0h24v24H0V0z\" fill=\"none\"/>\n",
              "    <path d=\"M18.56 5.44l.94 2.06.94-2.06 2.06-.94-2.06-.94-.94-2.06-.94 2.06-2.06.94zm-11 1L8.5 8.5l.94-2.06 2.06-.94-2.06-.94L8.5 2.5l-.94 2.06-2.06.94zm10 10l.94 2.06.94-2.06 2.06-.94-2.06-.94-.94-2.06-.94 2.06-2.06.94z\"/><path d=\"M17.41 7.96l-1.37-1.37c-.4-.4-.92-.59-1.43-.59-.52 0-1.04.2-1.43.59L10.3 9.45l-7.72 7.72c-.78.78-.78 2.05 0 2.83L4 21.41c.39.39.9.59 1.41.59.51 0 1.02-.2 1.41-.59l7.78-7.78 2.81-2.81c.8-.78.8-2.07 0-2.86zM5.41 20L4 18.59l7.72-7.72 1.47 1.35L5.41 20z\"/>\n",
              "  </svg>\n",
              "      </button>\n",
              "      \n",
              "  <style>\n",
              "    .colab-df-container {\n",
              "      display:flex;\n",
              "      flex-wrap:wrap;\n",
              "      gap: 12px;\n",
              "    }\n",
              "\n",
              "    .colab-df-convert {\n",
              "      background-color: #E8F0FE;\n",
              "      border: none;\n",
              "      border-radius: 50%;\n",
              "      cursor: pointer;\n",
              "      display: none;\n",
              "      fill: #1967D2;\n",
              "      height: 32px;\n",
              "      padding: 0 0 0 0;\n",
              "      width: 32px;\n",
              "    }\n",
              "\n",
              "    .colab-df-convert:hover {\n",
              "      background-color: #E2EBFA;\n",
              "      box-shadow: 0px 1px 2px rgba(60, 64, 67, 0.3), 0px 1px 3px 1px rgba(60, 64, 67, 0.15);\n",
              "      fill: #174EA6;\n",
              "    }\n",
              "\n",
              "    [theme=dark] .colab-df-convert {\n",
              "      background-color: #3B4455;\n",
              "      fill: #D2E3FC;\n",
              "    }\n",
              "\n",
              "    [theme=dark] .colab-df-convert:hover {\n",
              "      background-color: #434B5C;\n",
              "      box-shadow: 0px 1px 3px 1px rgba(0, 0, 0, 0.15);\n",
              "      filter: drop-shadow(0px 1px 2px rgba(0, 0, 0, 0.3));\n",
              "      fill: #FFFFFF;\n",
              "    }\n",
              "  </style>\n",
              "\n",
              "      <script>\n",
              "        const buttonEl =\n",
              "          document.querySelector('#df-79f7147c-43b7-4f15-8eab-d4fe1eba80e6 button.colab-df-convert');\n",
              "        buttonEl.style.display =\n",
              "          google.colab.kernel.accessAllowed ? 'block' : 'none';\n",
              "\n",
              "        async function convertToInteractive(key) {\n",
              "          const element = document.querySelector('#df-79f7147c-43b7-4f15-8eab-d4fe1eba80e6');\n",
              "          const dataTable =\n",
              "            await google.colab.kernel.invokeFunction('convertToInteractive',\n",
              "                                                     [key], {});\n",
              "          if (!dataTable) return;\n",
              "\n",
              "          const docLinkHtml = 'Like what you see? Visit the ' +\n",
              "            '<a target=\"_blank\" href=https://colab.research.google.com/notebooks/data_table.ipynb>data table notebook</a>'\n",
              "            + ' to learn more about interactive tables.';\n",
              "          element.innerHTML = '';\n",
              "          dataTable['output_type'] = 'display_data';\n",
              "          await google.colab.output.renderOutput(dataTable, element);\n",
              "          const docLink = document.createElement('div');\n",
              "          docLink.innerHTML = docLinkHtml;\n",
              "          element.appendChild(docLink);\n",
              "        }\n",
              "      </script>\n",
              "    </div>\n",
              "  </div>\n",
              "  "
            ]
          },
          "metadata": {},
          "execution_count": 5
        }
      ]
    },
    {
      "cell_type": "code",
      "source": [
        "df.info()"
      ],
      "metadata": {
        "colab": {
          "base_uri": "https://localhost:8080/"
        },
        "id": "LoijNKTYHHK4",
        "outputId": "a98a3fbf-64f4-44df-9a64-d81e09651b98"
      },
      "execution_count": 6,
      "outputs": [
        {
          "output_type": "stream",
          "name": "stdout",
          "text": [
            "<class 'pandas.core.frame.DataFrame'>\n",
            "RangeIndex: 10692 entries, 0 to 10691\n",
            "Data columns (total 13 columns):\n",
            " #   Column                Non-Null Count  Dtype  \n",
            "---  ------                --------------  -----  \n",
            " 0   cidade                10692 non-null  object \n",
            " 1   area                  10692 non-null  float64\n",
            " 2   quartos               10692 non-null  float64\n",
            " 3   banheiros             10692 non-null  float64\n",
            " 4   vagas_estacionamento  10692 non-null  float64\n",
            " 5   andar                 10692 non-null  object \n",
            " 6   animal                10692 non-null  object \n",
            " 7   mobiliado             10692 non-null  object \n",
            " 8   taxa_condominio       10692 non-null  float64\n",
            " 9   preco_aluguel         10692 non-null  float64\n",
            " 10  taxa_iptu             10692 non-null  float64\n",
            " 11  taxa_incendio         10692 non-null  float64\n",
            " 12  total_aluguel         10692 non-null  float64\n",
            "dtypes: float64(9), object(4)\n",
            "memory usage: 1.1+ MB\n"
          ]
        }
      ]
    },
    {
      "cell_type": "markdown",
      "source": [
        "O documento possui 10692 registros de imóveis e 13 colunas"
      ],
      "metadata": {
        "id": "vAEcplNRHTrt"
      }
    },
    {
      "cell_type": "code",
      "source": [
        "df.describe().round(2)"
      ],
      "metadata": {
        "colab": {
          "base_uri": "https://localhost:8080/",
          "height": 364
        },
        "id": "lYqJkwIUHfSD",
        "outputId": "b3bb40a1-b820-4ede-d9ff-a8716df44df3"
      },
      "execution_count": 8,
      "outputs": [
        {
          "output_type": "execute_result",
          "data": {
            "text/plain": [
              "           area   quartos  banheiros  vagas_estacionamento  taxa_condominio  \\\n",
              "count  10692.00  10692.00   10692.00              10692.00         10692.00   \n",
              "mean     149.22      2.51       2.24                  1.61          1174.02   \n",
              "std      537.02      1.17       1.41                  1.59         15592.31   \n",
              "min       11.00      1.00       1.00                  0.00             0.00   \n",
              "25%       56.00      2.00       1.00                  0.00           170.00   \n",
              "50%       90.00      2.00       2.00                  1.00           560.00   \n",
              "75%      182.00      3.00       3.00                  2.00          1237.50   \n",
              "max    46335.00     13.00      10.00                 12.00       1117000.00   \n",
              "\n",
              "       preco_aluguel  taxa_iptu  taxa_incendio  total_aluguel  \n",
              "count       10692.00   10692.00       10692.00       10692.00  \n",
              "mean         3896.25     366.70          53.30        5490.49  \n",
              "std          3408.55    3107.83          47.77       16484.73  \n",
              "min           450.00       0.00           3.00         499.00  \n",
              "25%          1530.00      38.00          21.00        2061.75  \n",
              "50%          2661.00     125.00          36.00        3581.50  \n",
              "75%          5000.00     375.00          68.00        6768.00  \n",
              "max         45000.00  313700.00         677.00     1120000.00  "
            ],
            "text/html": [
              "\n",
              "  <div id=\"df-95a3f815-56c5-4e38-b21a-4b026370756c\">\n",
              "    <div class=\"colab-df-container\">\n",
              "      <div>\n",
              "<style scoped>\n",
              "    .dataframe tbody tr th:only-of-type {\n",
              "        vertical-align: middle;\n",
              "    }\n",
              "\n",
              "    .dataframe tbody tr th {\n",
              "        vertical-align: top;\n",
              "    }\n",
              "\n",
              "    .dataframe thead th {\n",
              "        text-align: right;\n",
              "    }\n",
              "</style>\n",
              "<table border=\"1\" class=\"dataframe\">\n",
              "  <thead>\n",
              "    <tr style=\"text-align: right;\">\n",
              "      <th></th>\n",
              "      <th>area</th>\n",
              "      <th>quartos</th>\n",
              "      <th>banheiros</th>\n",
              "      <th>vagas_estacionamento</th>\n",
              "      <th>taxa_condominio</th>\n",
              "      <th>preco_aluguel</th>\n",
              "      <th>taxa_iptu</th>\n",
              "      <th>taxa_incendio</th>\n",
              "      <th>total_aluguel</th>\n",
              "    </tr>\n",
              "  </thead>\n",
              "  <tbody>\n",
              "    <tr>\n",
              "      <th>count</th>\n",
              "      <td>10692.00</td>\n",
              "      <td>10692.00</td>\n",
              "      <td>10692.00</td>\n",
              "      <td>10692.00</td>\n",
              "      <td>10692.00</td>\n",
              "      <td>10692.00</td>\n",
              "      <td>10692.00</td>\n",
              "      <td>10692.00</td>\n",
              "      <td>10692.00</td>\n",
              "    </tr>\n",
              "    <tr>\n",
              "      <th>mean</th>\n",
              "      <td>149.22</td>\n",
              "      <td>2.51</td>\n",
              "      <td>2.24</td>\n",
              "      <td>1.61</td>\n",
              "      <td>1174.02</td>\n",
              "      <td>3896.25</td>\n",
              "      <td>366.70</td>\n",
              "      <td>53.30</td>\n",
              "      <td>5490.49</td>\n",
              "    </tr>\n",
              "    <tr>\n",
              "      <th>std</th>\n",
              "      <td>537.02</td>\n",
              "      <td>1.17</td>\n",
              "      <td>1.41</td>\n",
              "      <td>1.59</td>\n",
              "      <td>15592.31</td>\n",
              "      <td>3408.55</td>\n",
              "      <td>3107.83</td>\n",
              "      <td>47.77</td>\n",
              "      <td>16484.73</td>\n",
              "    </tr>\n",
              "    <tr>\n",
              "      <th>min</th>\n",
              "      <td>11.00</td>\n",
              "      <td>1.00</td>\n",
              "      <td>1.00</td>\n",
              "      <td>0.00</td>\n",
              "      <td>0.00</td>\n",
              "      <td>450.00</td>\n",
              "      <td>0.00</td>\n",
              "      <td>3.00</td>\n",
              "      <td>499.00</td>\n",
              "    </tr>\n",
              "    <tr>\n",
              "      <th>25%</th>\n",
              "      <td>56.00</td>\n",
              "      <td>2.00</td>\n",
              "      <td>1.00</td>\n",
              "      <td>0.00</td>\n",
              "      <td>170.00</td>\n",
              "      <td>1530.00</td>\n",
              "      <td>38.00</td>\n",
              "      <td>21.00</td>\n",
              "      <td>2061.75</td>\n",
              "    </tr>\n",
              "    <tr>\n",
              "      <th>50%</th>\n",
              "      <td>90.00</td>\n",
              "      <td>2.00</td>\n",
              "      <td>2.00</td>\n",
              "      <td>1.00</td>\n",
              "      <td>560.00</td>\n",
              "      <td>2661.00</td>\n",
              "      <td>125.00</td>\n",
              "      <td>36.00</td>\n",
              "      <td>3581.50</td>\n",
              "    </tr>\n",
              "    <tr>\n",
              "      <th>75%</th>\n",
              "      <td>182.00</td>\n",
              "      <td>3.00</td>\n",
              "      <td>3.00</td>\n",
              "      <td>2.00</td>\n",
              "      <td>1237.50</td>\n",
              "      <td>5000.00</td>\n",
              "      <td>375.00</td>\n",
              "      <td>68.00</td>\n",
              "      <td>6768.00</td>\n",
              "    </tr>\n",
              "    <tr>\n",
              "      <th>max</th>\n",
              "      <td>46335.00</td>\n",
              "      <td>13.00</td>\n",
              "      <td>10.00</td>\n",
              "      <td>12.00</td>\n",
              "      <td>1117000.00</td>\n",
              "      <td>45000.00</td>\n",
              "      <td>313700.00</td>\n",
              "      <td>677.00</td>\n",
              "      <td>1120000.00</td>\n",
              "    </tr>\n",
              "  </tbody>\n",
              "</table>\n",
              "</div>\n",
              "      <button class=\"colab-df-convert\" onclick=\"convertToInteractive('df-95a3f815-56c5-4e38-b21a-4b026370756c')\"\n",
              "              title=\"Convert this dataframe to an interactive table.\"\n",
              "              style=\"display:none;\">\n",
              "        \n",
              "  <svg xmlns=\"http://www.w3.org/2000/svg\" height=\"24px\"viewBox=\"0 0 24 24\"\n",
              "       width=\"24px\">\n",
              "    <path d=\"M0 0h24v24H0V0z\" fill=\"none\"/>\n",
              "    <path d=\"M18.56 5.44l.94 2.06.94-2.06 2.06-.94-2.06-.94-.94-2.06-.94 2.06-2.06.94zm-11 1L8.5 8.5l.94-2.06 2.06-.94-2.06-.94L8.5 2.5l-.94 2.06-2.06.94zm10 10l.94 2.06.94-2.06 2.06-.94-2.06-.94-.94-2.06-.94 2.06-2.06.94z\"/><path d=\"M17.41 7.96l-1.37-1.37c-.4-.4-.92-.59-1.43-.59-.52 0-1.04.2-1.43.59L10.3 9.45l-7.72 7.72c-.78.78-.78 2.05 0 2.83L4 21.41c.39.39.9.59 1.41.59.51 0 1.02-.2 1.41-.59l7.78-7.78 2.81-2.81c.8-.78.8-2.07 0-2.86zM5.41 20L4 18.59l7.72-7.72 1.47 1.35L5.41 20z\"/>\n",
              "  </svg>\n",
              "      </button>\n",
              "      \n",
              "  <style>\n",
              "    .colab-df-container {\n",
              "      display:flex;\n",
              "      flex-wrap:wrap;\n",
              "      gap: 12px;\n",
              "    }\n",
              "\n",
              "    .colab-df-convert {\n",
              "      background-color: #E8F0FE;\n",
              "      border: none;\n",
              "      border-radius: 50%;\n",
              "      cursor: pointer;\n",
              "      display: none;\n",
              "      fill: #1967D2;\n",
              "      height: 32px;\n",
              "      padding: 0 0 0 0;\n",
              "      width: 32px;\n",
              "    }\n",
              "\n",
              "    .colab-df-convert:hover {\n",
              "      background-color: #E2EBFA;\n",
              "      box-shadow: 0px 1px 2px rgba(60, 64, 67, 0.3), 0px 1px 3px 1px rgba(60, 64, 67, 0.15);\n",
              "      fill: #174EA6;\n",
              "    }\n",
              "\n",
              "    [theme=dark] .colab-df-convert {\n",
              "      background-color: #3B4455;\n",
              "      fill: #D2E3FC;\n",
              "    }\n",
              "\n",
              "    [theme=dark] .colab-df-convert:hover {\n",
              "      background-color: #434B5C;\n",
              "      box-shadow: 0px 1px 3px 1px rgba(0, 0, 0, 0.15);\n",
              "      filter: drop-shadow(0px 1px 2px rgba(0, 0, 0, 0.3));\n",
              "      fill: #FFFFFF;\n",
              "    }\n",
              "  </style>\n",
              "\n",
              "      <script>\n",
              "        const buttonEl =\n",
              "          document.querySelector('#df-95a3f815-56c5-4e38-b21a-4b026370756c button.colab-df-convert');\n",
              "        buttonEl.style.display =\n",
              "          google.colab.kernel.accessAllowed ? 'block' : 'none';\n",
              "\n",
              "        async function convertToInteractive(key) {\n",
              "          const element = document.querySelector('#df-95a3f815-56c5-4e38-b21a-4b026370756c');\n",
              "          const dataTable =\n",
              "            await google.colab.kernel.invokeFunction('convertToInteractive',\n",
              "                                                     [key], {});\n",
              "          if (!dataTable) return;\n",
              "\n",
              "          const docLinkHtml = 'Like what you see? Visit the ' +\n",
              "            '<a target=\"_blank\" href=https://colab.research.google.com/notebooks/data_table.ipynb>data table notebook</a>'\n",
              "            + ' to learn more about interactive tables.';\n",
              "          element.innerHTML = '';\n",
              "          dataTable['output_type'] = 'display_data';\n",
              "          await google.colab.output.renderOutput(dataTable, element);\n",
              "          const docLink = document.createElement('div');\n",
              "          docLink.innerHTML = docLinkHtml;\n",
              "          element.appendChild(docLink);\n",
              "        }\n",
              "      </script>\n",
              "    </div>\n",
              "  </div>\n",
              "  "
            ]
          },
          "metadata": {},
          "execution_count": 8
        }
      ]
    },
    {
      "cell_type": "markdown",
      "source": [
        "## **Etapa 3 - Análise Exploratória dos Dados**"
      ],
      "metadata": {
        "id": "64-Sl6PMHxcC"
      }
    },
    {
      "cell_type": "markdown",
      "source": [
        "### 1. Em quais cidades se concentram a maior quantidade de casas?\n",
        "\n"
      ],
      "metadata": {
        "id": "JIxRFRTNH66S"
      }
    },
    {
      "cell_type": "code",
      "source": [
        "# Preciso saber a quantidade de vezes que cada cidade aparece na tabela\n",
        "\n",
        "df['cidade'].value_counts()"
      ],
      "metadata": {
        "colab": {
          "base_uri": "https://localhost:8080/"
        },
        "id": "UBBqMWmIIW8Y",
        "outputId": "eb63c59d-4f26-449b-aef8-501283311cfc"
      },
      "execution_count": 11,
      "outputs": [
        {
          "output_type": "execute_result",
          "data": {
            "text/plain": [
              "São Paulo         5887\n",
              "Rio de Janeiro    1501\n",
              "Belo Horizonte    1258\n",
              "Porto Alegre      1193\n",
              "Campinas           853\n",
              "Name: cidade, dtype: int64"
            ]
          },
          "metadata": {},
          "execution_count": 11
        }
      ]
    },
    {
      "cell_type": "code",
      "source": [
        "df['cidade'].unique()"
      ],
      "metadata": {
        "colab": {
          "base_uri": "https://localhost:8080/"
        },
        "id": "8_nitCdHJnDf",
        "outputId": "9adbefe5-7d09-4a3b-e441-1e1ec5b66fc5"
      },
      "execution_count": 16,
      "outputs": [
        {
          "output_type": "execute_result",
          "data": {
            "text/plain": [
              "array(['São Paulo', 'Porto Alegre', 'Rio de Janeiro', 'Campinas',\n",
              "       'Belo Horizonte'], dtype=object)"
            ]
          },
          "metadata": {},
          "execution_count": 16
        }
      ]
    },
    {
      "cell_type": "code",
      "source": [
        "plt.figure(figsize=(15,5))\n",
        "sns.countplot(df['cidade'])\n",
        "plt.show()"
      ],
      "metadata": {
        "colab": {
          "base_uri": "https://localhost:8080/",
          "height": 394
        },
        "id": "ObQ7a-jbJzDS",
        "outputId": "10154b16-be66-4624-f244-ef57437dab63"
      },
      "execution_count": 17,
      "outputs": [
        {
          "output_type": "stream",
          "name": "stderr",
          "text": [
            "/usr/local/lib/python3.7/dist-packages/seaborn/_decorators.py:43: FutureWarning: Pass the following variable as a keyword arg: x. From version 0.12, the only valid positional argument will be `data`, and passing other arguments without an explicit keyword will result in an error or misinterpretation.\n",
            "  FutureWarning\n"
          ]
        },
        {
          "output_type": "display_data",
          "data": {
            "text/plain": [
              "<Figure size 1080x360 with 1 Axes>"
            ],
            "image/png": "[encoded data removed]"
          },
          "metadata": {}
        }
      ]
    },
    {
      "cell_type": "markdown",
      "source": [
        "Resposta questão 1: São Paulo concentra a maior quantidade de casas"
      ],
      "metadata": {
        "id": "jIhGBMTpI4rh"
      }
    },
    {
      "cell_type": "markdown",
      "source": [
        "### 2. Em quais cidades estão os imóveis com maior preço de aluguel?"
      ],
      "metadata": {
        "id": "XHYBm5wUJCQt"
      }
    },
    {
      "cell_type": "code",
      "source": [
        "df.head()"
      ],
      "metadata": {
        "colab": {
          "base_uri": "https://localhost:8080/",
          "height": 357
        },
        "id": "UM9Lut2AJKVE",
        "outputId": "b9cdef69-a30d-476d-aea7-4be157a0ce3c"
      },
      "execution_count": 18,
      "outputs": [
        {
          "output_type": "execute_result",
          "data": {
            "text/plain": [
              "         cidade   area  quartos  banheiros  vagas_estacionamento andar animal  \\\n",
              "0     São Paulo   70.0      2.0        1.0                   1.0     7    sim   \n",
              "1     São Paulo  320.0      4.0        4.0                   0.0    20    sim   \n",
              "2  Porto Alegre   80.0      1.0        1.0                   1.0     6    sim   \n",
              "3  Porto Alegre   51.0      2.0        1.0                   0.0     2    sim   \n",
              "4     São Paulo   25.0      1.0        1.0                   0.0     1    nao   \n",
              "\n",
              "  mobiliado  taxa_condominio  preco_aluguel  taxa_iptu  taxa_incendio  \\\n",
              "0       sim           2065.0         3300.0      211.0           42.0   \n",
              "1       nao           1200.0         4960.0     1750.0           63.0   \n",
              "2       nao           1000.0         2800.0        0.0           41.0   \n",
              "3       nao            270.0         1112.0       22.0           17.0   \n",
              "4       nao              0.0          800.0       25.0           11.0   \n",
              "\n",
              "   total_aluguel  \n",
              "0         5618.0  \n",
              "1         7973.0  \n",
              "2         3841.0  \n",
              "3         1421.0  \n",
              "4          836.0  "
            ],
            "text/html": [
              "\n",
              "  <div id=\"df-a7f80150-cdc6-4cf7-a11b-9c0fb7065481\">\n",
              "    <div class=\"colab-df-container\">\n",
              "      <div>\n",
              "<style scoped>\n",
              "    .dataframe tbody tr th:only-of-type {\n",
              "        vertical-align: middle;\n",
              "    }\n",
              "\n",
              "    .dataframe tbody tr th {\n",
              "        vertical-align: top;\n",
              "    }\n",
              "\n",
              "    .dataframe thead th {\n",
              "        text-align: right;\n",
              "    }\n",
              "</style>\n",
              "<table border=\"1\" class=\"dataframe\">\n",
              "  <thead>\n",
              "    <tr style=\"text-align: right;\">\n",
              "      <th></th>\n",
              "      <th>cidade</th>\n",
              "      <th>area</th>\n",
              "      <th>quartos</th>\n",
              "      <th>banheiros</th>\n",
              "      <th>vagas_estacionamento</th>\n",
              "      <th>andar</th>\n",
              "      <th>animal</th>\n",
              "      <th>mobiliado</th>\n",
              "      <th>taxa_condominio</th>\n",
              "      <th>preco_aluguel</th>\n",
              "      <th>taxa_iptu</th>\n",
              "      <th>taxa_incendio</th>\n",
              "      <th>total_aluguel</th>\n",
              "    </tr>\n",
              "  </thead>\n",
              "  <tbody>\n",
              "    <tr>\n",
              "      <th>0</th>\n",
              "      <td>São Paulo</td>\n",
              "      <td>70.0</td>\n",
              "      <td>2.0</td>\n",
              "      <td>1.0</td>\n",
              "      <td>1.0</td>\n",
              "      <td>7</td>\n",
              "      <td>sim</td>\n",
              "      <td>sim</td>\n",
              "      <td>2065.0</td>\n",
              "      <td>3300.0</td>\n",
              "      <td>211.0</td>\n",
              "      <td>42.0</td>\n",
              "      <td>5618.0</td>\n",
              "    </tr>\n",
              "    <tr>\n",
              "      <th>1</th>\n",
              "      <td>São Paulo</td>\n",
              "      <td>320.0</td>\n",
              "      <td>4.0</td>\n",
              "      <td>4.0</td>\n",
              "      <td>0.0</td>\n",
              "      <td>20</td>\n",
              "      <td>sim</td>\n",
              "      <td>nao</td>\n",
              "      <td>1200.0</td>\n",
              "      <td>4960.0</td>\n",
              "      <td>1750.0</td>\n",
              "      <td>63.0</td>\n",
              "      <td>7973.0</td>\n",
              "    </tr>\n",
              "    <tr>\n",
              "      <th>2</th>\n",
              "      <td>Porto Alegre</td>\n",
              "      <td>80.0</td>\n",
              "      <td>1.0</td>\n",
              "      <td>1.0</td>\n",
              "      <td>1.0</td>\n",
              "      <td>6</td>\n",
              "      <td>sim</td>\n",
              "      <td>nao</td>\n",
              "      <td>1000.0</td>\n",
              "      <td>2800.0</td>\n",
              "      <td>0.0</td>\n",
              "      <td>41.0</td>\n",
              "      <td>3841.0</td>\n",
              "    </tr>\n",
              "    <tr>\n",
              "      <th>3</th>\n",
              "      <td>Porto Alegre</td>\n",
              "      <td>51.0</td>\n",
              "      <td>2.0</td>\n",
              "      <td>1.0</td>\n",
              "      <td>0.0</td>\n",
              "      <td>2</td>\n",
              "      <td>sim</td>\n",
              "      <td>nao</td>\n",
              "      <td>270.0</td>\n",
              "      <td>1112.0</td>\n",
              "      <td>22.0</td>\n",
              "      <td>17.0</td>\n",
              "      <td>1421.0</td>\n",
              "    </tr>\n",
              "    <tr>\n",
              "      <th>4</th>\n",
              "      <td>São Paulo</td>\n",
              "      <td>25.0</td>\n",
              "      <td>1.0</td>\n",
              "      <td>1.0</td>\n",
              "      <td>0.0</td>\n",
              "      <td>1</td>\n",
              "      <td>nao</td>\n",
              "      <td>nao</td>\n",
              "      <td>0.0</td>\n",
              "      <td>800.0</td>\n",
              "      <td>25.0</td>\n",
              "      <td>11.0</td>\n",
              "      <td>836.0</td>\n",
              "    </tr>\n",
              "  </tbody>\n",
              "</table>\n",
              "</div>\n",
              "      <button class=\"colab-df-convert\" onclick=\"convertToInteractive('df-a7f80150-cdc6-4cf7-a11b-9c0fb7065481')\"\n",
              "              title=\"Convert this dataframe to an interactive table.\"\n",
              "              style=\"display:none;\">\n",
              "        \n",
              "  <svg xmlns=\"http://www.w3.org/2000/svg\" height=\"24px\"viewBox=\"0 0 24 24\"\n",
              "       width=\"24px\">\n",
              "    <path d=\"M0 0h24v24H0V0z\" fill=\"none\"/>\n",
              "    <path d=\"M18.56 5.44l.94 2.06.94-2.06 2.06-.94-2.06-.94-.94-2.06-.94 2.06-2.06.94zm-11 1L8.5 8.5l.94-2.06 2.06-.94-2.06-.94L8.5 2.5l-.94 2.06-2.06.94zm10 10l.94 2.06.94-2.06 2.06-.94-2.06-.94-.94-2.06-.94 2.06-2.06.94z\"/><path d=\"M17.41 7.96l-1.37-1.37c-.4-.4-.92-.59-1.43-.59-.52 0-1.04.2-1.43.59L10.3 9.45l-7.72 7.72c-.78.78-.78 2.05 0 2.83L4 21.41c.39.39.9.59 1.41.59.51 0 1.02-.2 1.41-.59l7.78-7.78 2.81-2.81c.8-.78.8-2.07 0-2.86zM5.41 20L4 18.59l7.72-7.72 1.47 1.35L5.41 20z\"/>\n",
              "  </svg>\n",
              "      </button>\n",
              "      \n",
              "  <style>\n",
              "    .colab-df-container {\n",
              "      display:flex;\n",
              "      flex-wrap:wrap;\n",
              "      gap: 12px;\n",
              "    }\n",
              "\n",
              "    .colab-df-convert {\n",
              "      background-color: #E8F0FE;\n",
              "      border: none;\n",
              "      border-radius: 50%;\n",
              "      cursor: pointer;\n",
              "      display: none;\n",
              "      fill: #1967D2;\n",
              "      height: 32px;\n",
              "      padding: 0 0 0 0;\n",
              "      width: 32px;\n",
              "    }\n",
              "\n",
              "    .colab-df-convert:hover {\n",
              "      background-color: #E2EBFA;\n",
              "      box-shadow: 0px 1px 2px rgba(60, 64, 67, 0.3), 0px 1px 3px 1px rgba(60, 64, 67, 0.15);\n",
              "      fill: #174EA6;\n",
              "    }\n",
              "\n",
              "    [theme=dark] .colab-df-convert {\n",
              "      background-color: #3B4455;\n",
              "      fill: #D2E3FC;\n",
              "    }\n",
              "\n",
              "    [theme=dark] .colab-df-convert:hover {\n",
              "      background-color: #434B5C;\n",
              "      box-shadow: 0px 1px 3px 1px rgba(0, 0, 0, 0.15);\n",
              "      filter: drop-shadow(0px 1px 2px rgba(0, 0, 0, 0.3));\n",
              "      fill: #FFFFFF;\n",
              "    }\n",
              "  </style>\n",
              "\n",
              "      <script>\n",
              "        const buttonEl =\n",
              "          document.querySelector('#df-a7f80150-cdc6-4cf7-a11b-9c0fb7065481 button.colab-df-convert');\n",
              "        buttonEl.style.display =\n",
              "          google.colab.kernel.accessAllowed ? 'block' : 'none';\n",
              "\n",
              "        async function convertToInteractive(key) {\n",
              "          const element = document.querySelector('#df-a7f80150-cdc6-4cf7-a11b-9c0fb7065481');\n",
              "          const dataTable =\n",
              "            await google.colab.kernel.invokeFunction('convertToInteractive',\n",
              "                                                     [key], {});\n",
              "          if (!dataTable) return;\n",
              "\n",
              "          const docLinkHtml = 'Like what you see? Visit the ' +\n",
              "            '<a target=\"_blank\" href=https://colab.research.google.com/notebooks/data_table.ipynb>data table notebook</a>'\n",
              "            + ' to learn more about interactive tables.';\n",
              "          element.innerHTML = '';\n",
              "          dataTable['output_type'] = 'display_data';\n",
              "          await google.colab.output.renderOutput(dataTable, element);\n",
              "          const docLink = document.createElement('div');\n",
              "          docLink.innerHTML = docLinkHtml;\n",
              "          element.appendChild(docLink);\n",
              "        }\n",
              "      </script>\n",
              "    </div>\n",
              "  </div>\n",
              "  "
            ]
          },
          "metadata": {},
          "execution_count": 18
        }
      ]
    },
    {
      "cell_type": "code",
      "source": [
        "media_aluguel = df.groupby(\"cidade\")['total_aluguel'].mean()\n",
        "media_aluguel"
      ],
      "metadata": {
        "colab": {
          "base_uri": "https://localhost:8080/"
        },
        "id": "SwmqtnKEKLU6",
        "outputId": "adf5219f-061d-4351-bd88-d5bfbd692333"
      },
      "execution_count": 26,
      "outputs": [
        {
          "output_type": "execute_result",
          "data": {
            "text/plain": [
              "cidade\n",
              "Belo Horizonte    6315.242448\n",
              "Campinas          3173.276671\n",
              "Porto Alegre      2989.782900\n",
              "Rio de Janeiro    4611.684877\n",
              "São Paulo         6380.831833\n",
              "Name: total_aluguel, dtype: float64"
            ]
          },
          "metadata": {},
          "execution_count": 26
        }
      ]
    },
    {
      "cell_type": "code",
      "source": [
        "plt.figure(figsize=(15,5))\n",
        "sns.boxplot(x='cidade', y='total_aluguel', data=df, showfliers=False)\n",
        "plt.show()"
      ],
      "metadata": {
        "colab": {
          "base_uri": "https://localhost:8080/",
          "height": 245
        },
        "id": "nJkLVy2CKoyu",
        "outputId": "86ec59a7-9307-442c-b418-f3ab11b7f6c1"
      },
      "execution_count": 29,
      "outputs": [
        {
          "output_type": "display_data",
          "data": {
            "text/plain": [
              "<Figure size 1080x360 with 1 Axes>"
            ],
            "image/png": "[encoded data removed]"
          },
          "metadata": {}
        }
      ]
    },
    {
      "cell_type": "markdown",
      "source": [
        "Resposta questão 2: São Paulo tem os alugueis mais altos"
      ],
      "metadata": {
        "id": "Om0zsaKaNA7u"
      }
    },
    {
      "cell_type": "markdown",
      "source": [],
      "metadata": {
        "id": "GFBQtngLNIY9"
      }
    },
    {
      "cell_type": "markdown",
      "source": [
        "### 3. Ter animais impacta no preço do aluguel?"
      ],
      "metadata": {
        "id": "vNKJq3tMNeb2"
      }
    },
    {
      "cell_type": "code",
      "source": [
        "df.head()"
      ],
      "metadata": {
        "colab": {
          "base_uri": "https://localhost:8080/",
          "height": 357
        },
        "id": "B8rcrFJQNkOK",
        "outputId": "5e518239-08eb-44fa-f711-1dea0c6fbeaf"
      },
      "execution_count": 30,
      "outputs": [
        {
          "output_type": "execute_result",
          "data": {
            "text/plain": [
              "         cidade   area  quartos  banheiros  vagas_estacionamento andar animal  \\\n",
              "0     São Paulo   70.0      2.0        1.0                   1.0     7    sim   \n",
              "1     São Paulo  320.0      4.0        4.0                   0.0    20    sim   \n",
              "2  Porto Alegre   80.0      1.0        1.0                   1.0     6    sim   \n",
              "3  Porto Alegre   51.0      2.0        1.0                   0.0     2    sim   \n",
              "4     São Paulo   25.0      1.0        1.0                   0.0     1    nao   \n",
              "\n",
              "  mobiliado  taxa_condominio  preco_aluguel  taxa_iptu  taxa_incendio  \\\n",
              "0       sim           2065.0         3300.0      211.0           42.0   \n",
              "1       nao           1200.0         4960.0     1750.0           63.0   \n",
              "2       nao           1000.0         2800.0        0.0           41.0   \n",
              "3       nao            270.0         1112.0       22.0           17.0   \n",
              "4       nao              0.0          800.0       25.0           11.0   \n",
              "\n",
              "   total_aluguel  \n",
              "0         5618.0  \n",
              "1         7973.0  \n",
              "2         3841.0  \n",
              "3         1421.0  \n",
              "4          836.0  "
            ],
            "text/html": [
              "\n",
              "  <div id=\"df-898ec156-caa3-44db-baba-8846b3d75d82\">\n",
              "    <div class=\"colab-df-container\">\n",
              "      <div>\n",
              "<style scoped>\n",
              "    .dataframe tbody tr th:only-of-type {\n",
              "        vertical-align: middle;\n",
              "    }\n",
              "\n",
              "    .dataframe tbody tr th {\n",
              "        vertical-align: top;\n",
              "    }\n",
              "\n",
              "    .dataframe thead th {\n",
              "        text-align: right;\n",
              "    }\n",
              "</style>\n",
              "<table border=\"1\" class=\"dataframe\">\n",
              "  <thead>\n",
              "    <tr style=\"text-align: right;\">\n",
              "      <th></th>\n",
              "      <th>cidade</th>\n",
              "      <th>area</th>\n",
              "      <th>quartos</th>\n",
              "      <th>banheiros</th>\n",
              "      <th>vagas_estacionamento</th>\n",
              "      <th>andar</th>\n",
              "      <th>animal</th>\n",
              "      <th>mobiliado</th>\n",
              "      <th>taxa_condominio</th>\n",
              "      <th>preco_aluguel</th>\n",
              "      <th>taxa_iptu</th>\n",
              "      <th>taxa_incendio</th>\n",
              "      <th>total_aluguel</th>\n",
              "    </tr>\n",
              "  </thead>\n",
              "  <tbody>\n",
              "    <tr>\n",
              "      <th>0</th>\n",
              "      <td>São Paulo</td>\n",
              "      <td>70.0</td>\n",
              "      <td>2.0</td>\n",
              "      <td>1.0</td>\n",
              "      <td>1.0</td>\n",
              "      <td>7</td>\n",
              "      <td>sim</td>\n",
              "      <td>sim</td>\n",
              "      <td>2065.0</td>\n",
              "      <td>3300.0</td>\n",
              "      <td>211.0</td>\n",
              "      <td>42.0</td>\n",
              "      <td>5618.0</td>\n",
              "    </tr>\n",
              "    <tr>\n",
              "      <th>1</th>\n",
              "      <td>São Paulo</td>\n",
              "      <td>320.0</td>\n",
              "      <td>4.0</td>\n",
              "      <td>4.0</td>\n",
              "      <td>0.0</td>\n",
              "      <td>20</td>\n",
              "      <td>sim</td>\n",
              "      <td>nao</td>\n",
              "      <td>1200.0</td>\n",
              "      <td>4960.0</td>\n",
              "      <td>1750.0</td>\n",
              "      <td>63.0</td>\n",
              "      <td>7973.0</td>\n",
              "    </tr>\n",
              "    <tr>\n",
              "      <th>2</th>\n",
              "      <td>Porto Alegre</td>\n",
              "      <td>80.0</td>\n",
              "      <td>1.0</td>\n",
              "      <td>1.0</td>\n",
              "      <td>1.0</td>\n",
              "      <td>6</td>\n",
              "      <td>sim</td>\n",
              "      <td>nao</td>\n",
              "      <td>1000.0</td>\n",
              "      <td>2800.0</td>\n",
              "      <td>0.0</td>\n",
              "      <td>41.0</td>\n",
              "      <td>3841.0</td>\n",
              "    </tr>\n",
              "    <tr>\n",
              "      <th>3</th>\n",
              "      <td>Porto Alegre</td>\n",
              "      <td>51.0</td>\n",
              "      <td>2.0</td>\n",
              "      <td>1.0</td>\n",
              "      <td>0.0</td>\n",
              "      <td>2</td>\n",
              "      <td>sim</td>\n",
              "      <td>nao</td>\n",
              "      <td>270.0</td>\n",
              "      <td>1112.0</td>\n",
              "      <td>22.0</td>\n",
              "      <td>17.0</td>\n",
              "      <td>1421.0</td>\n",
              "    </tr>\n",
              "    <tr>\n",
              "      <th>4</th>\n",
              "      <td>São Paulo</td>\n",
              "      <td>25.0</td>\n",
              "      <td>1.0</td>\n",
              "      <td>1.0</td>\n",
              "      <td>0.0</td>\n",
              "      <td>1</td>\n",
              "      <td>nao</td>\n",
              "      <td>nao</td>\n",
              "      <td>0.0</td>\n",
              "      <td>800.0</td>\n",
              "      <td>25.0</td>\n",
              "      <td>11.0</td>\n",
              "      <td>836.0</td>\n",
              "    </tr>\n",
              "  </tbody>\n",
              "</table>\n",
              "</div>\n",
              "      <button class=\"colab-df-convert\" onclick=\"convertToInteractive('df-898ec156-caa3-44db-baba-8846b3d75d82')\"\n",
              "              title=\"Convert this dataframe to an interactive table.\"\n",
              "              style=\"display:none;\">\n",
              "        \n",
              "  <svg xmlns=\"http://www.w3.org/2000/svg\" height=\"24px\"viewBox=\"0 0 24 24\"\n",
              "       width=\"24px\">\n",
              "    <path d=\"M0 0h24v24H0V0z\" fill=\"none\"/>\n",
              "    <path d=\"M18.56 5.44l.94 2.06.94-2.06 2.06-.94-2.06-.94-.94-2.06-.94 2.06-2.06.94zm-11 1L8.5 8.5l.94-2.06 2.06-.94-2.06-.94L8.5 2.5l-.94 2.06-2.06.94zm10 10l.94 2.06.94-2.06 2.06-.94-2.06-.94-.94-2.06-.94 2.06-2.06.94z\"/><path d=\"M17.41 7.96l-1.37-1.37c-.4-.4-.92-.59-1.43-.59-.52 0-1.04.2-1.43.59L10.3 9.45l-7.72 7.72c-.78.78-.78 2.05 0 2.83L4 21.41c.39.39.9.59 1.41.59.51 0 1.02-.2 1.41-.59l7.78-7.78 2.81-2.81c.8-.78.8-2.07 0-2.86zM5.41 20L4 18.59l7.72-7.72 1.47 1.35L5.41 20z\"/>\n",
              "  </svg>\n",
              "      </button>\n",
              "      \n",
              "  <style>\n",
              "    .colab-df-container {\n",
              "      display:flex;\n",
              "      flex-wrap:wrap;\n",
              "      gap: 12px;\n",
              "    }\n",
              "\n",
              "    .colab-df-convert {\n",
              "      background-color: #E8F0FE;\n",
              "      border: none;\n",
              "      border-radius: 50%;\n",
              "      cursor: pointer;\n",
              "      display: none;\n",
              "      fill: #1967D2;\n",
              "      height: 32px;\n",
              "      padding: 0 0 0 0;\n",
              "      width: 32px;\n",
              "    }\n",
              "\n",
              "    .colab-df-convert:hover {\n",
              "      background-color: #E2EBFA;\n",
              "      box-shadow: 0px 1px 2px rgba(60, 64, 67, 0.3), 0px 1px 3px 1px rgba(60, 64, 67, 0.15);\n",
              "      fill: #174EA6;\n",
              "    }\n",
              "\n",
              "    [theme=dark] .colab-df-convert {\n",
              "      background-color: #3B4455;\n",
              "      fill: #D2E3FC;\n",
              "    }\n",
              "\n",
              "    [theme=dark] .colab-df-convert:hover {\n",
              "      background-color: #434B5C;\n",
              "      box-shadow: 0px 1px 3px 1px rgba(0, 0, 0, 0.15);\n",
              "      filter: drop-shadow(0px 1px 2px rgba(0, 0, 0, 0.3));\n",
              "      fill: #FFFFFF;\n",
              "    }\n",
              "  </style>\n",
              "\n",
              "      <script>\n",
              "        const buttonEl =\n",
              "          document.querySelector('#df-898ec156-caa3-44db-baba-8846b3d75d82 button.colab-df-convert');\n",
              "        buttonEl.style.display =\n",
              "          google.colab.kernel.accessAllowed ? 'block' : 'none';\n",
              "\n",
              "        async function convertToInteractive(key) {\n",
              "          const element = document.querySelector('#df-898ec156-caa3-44db-baba-8846b3d75d82');\n",
              "          const dataTable =\n",
              "            await google.colab.kernel.invokeFunction('convertToInteractive',\n",
              "                                                     [key], {});\n",
              "          if (!dataTable) return;\n",
              "\n",
              "          const docLinkHtml = 'Like what you see? Visit the ' +\n",
              "            '<a target=\"_blank\" href=https://colab.research.google.com/notebooks/data_table.ipynb>data table notebook</a>'\n",
              "            + ' to learn more about interactive tables.';\n",
              "          element.innerHTML = '';\n",
              "          dataTable['output_type'] = 'display_data';\n",
              "          await google.colab.output.renderOutput(dataTable, element);\n",
              "          const docLink = document.createElement('div');\n",
              "          docLink.innerHTML = docLinkHtml;\n",
              "          element.appendChild(docLink);\n",
              "        }\n",
              "      </script>\n",
              "    </div>\n",
              "  </div>\n",
              "  "
            ]
          },
          "metadata": {},
          "execution_count": 30
        }
      ]
    },
    {
      "cell_type": "code",
      "source": [
        "df['animal'].value_counts()"
      ],
      "metadata": {
        "colab": {
          "base_uri": "https://localhost:8080/"
        },
        "id": "bQ0SUjd0NvzJ",
        "outputId": "0058a8a7-1849-4309-c63b-8019039fe3c5"
      },
      "execution_count": 31,
      "outputs": [
        {
          "output_type": "execute_result",
          "data": {
            "text/plain": [
              "sim    8316\n",
              "nao    2376\n",
              "Name: animal, dtype: int64"
            ]
          },
          "metadata": {},
          "execution_count": 31
        }
      ]
    },
    {
      "cell_type": "code",
      "source": [
        "plt.figure(figsize=(15,5))\n",
        "sns.countplot(df['animal'])\n",
        "plt.show()"
      ],
      "metadata": {
        "colab": {
          "base_uri": "https://localhost:8080/",
          "height": 301
        },
        "id": "adATVIBpN4iW",
        "outputId": "b5275955-6376-494e-c23d-824d62829905"
      },
      "execution_count": 32,
      "outputs": [
        {
          "output_type": "stream",
          "name": "stderr",
          "text": [
            "/usr/local/lib/python3.7/dist-packages/seaborn/_decorators.py:43: FutureWarning: Pass the following variable as a keyword arg: x. From version 0.12, the only valid positional argument will be `data`, and passing other arguments without an explicit keyword will result in an error or misinterpretation.\n",
            "  FutureWarning\n"
          ]
        },
        {
          "output_type": "display_data",
          "data": {
            "text/plain": [
              "<Figure size 1080x360 with 1 Axes>"
            ],
            "image/png": "[encoded data removed]"
          },
          "metadata": {}
        }
      ]
    },
    {
      "cell_type": "code",
      "source": [
        "df.groupby('animal')['total_aluguel'].mean()"
      ],
      "metadata": {
        "colab": {
          "base_uri": "https://localhost:8080/"
        },
        "id": "Ps1vN09AOEVP",
        "outputId": "3783f6b9-6110-444c-85d2-68bacaa65e16"
      },
      "execution_count": 33,
      "outputs": [
        {
          "output_type": "execute_result",
          "data": {
            "text/plain": [
              "animal\n",
              "nao    5710.761364\n",
              "sim    5427.551467\n",
              "Name: total_aluguel, dtype: float64"
            ]
          },
          "metadata": {},
          "execution_count": 33
        }
      ]
    },
    {
      "cell_type": "code",
      "source": [
        "plt.figure(figsize=(15,5))\n",
        "sns.barplot(x=df['cidade'] , y=df['total_aluguel'], hue=df['animal'], ci=False, estimator=np.mean)"
      ],
      "metadata": {
        "colab": {
          "base_uri": "https://localhost:8080/",
          "height": 262
        },
        "id": "nhiUbVgbOSQu",
        "outputId": "fbb9c4d6-1a2f-4225-d21c-bb94b40f959f"
      },
      "execution_count": 37,
      "outputs": [
        {
          "output_type": "execute_result",
          "data": {
            "text/plain": [
              "<matplotlib.axes._subplots.AxesSubplot at 0x7f0482a26e90>"
            ]
          },
          "metadata": {},
          "execution_count": 37
        },
        {
          "output_type": "display_data",
          "data": {
            "text/plain": [
              "<Figure size 1080x360 with 1 Axes>"
            ],
            "image/png": "[encoded data removed]"
          },
          "metadata": {}
        }
      ]
    },
    {
      "cell_type": "markdown",
      "source": [
        "Resposta questão 3: As casas com animais não são mais caras"
      ],
      "metadata": {
        "id": "n1sO6FbNPcaS"
      }
    },
    {
      "cell_type": "markdown",
      "source": [
        "### 4. As casas mobiliadas possuem um preço de aluguel mais alto?"
      ],
      "metadata": {
        "id": "wuc7oqfkPixP"
      }
    },
    {
      "cell_type": "code",
      "source": [
        "df.head()"
      ],
      "metadata": {
        "colab": {
          "base_uri": "https://localhost:8080/",
          "height": 357
        },
        "id": "qHD55-3vPpDP",
        "outputId": "35659825-6ccf-44fb-e4be-8ab505d1d1bb"
      },
      "execution_count": 38,
      "outputs": [
        {
          "output_type": "execute_result",
          "data": {
            "text/plain": [
              "         cidade   area  quartos  banheiros  vagas_estacionamento andar animal  \\\n",
              "0     São Paulo   70.0      2.0        1.0                   1.0     7    sim   \n",
              "1     São Paulo  320.0      4.0        4.0                   0.0    20    sim   \n",
              "2  Porto Alegre   80.0      1.0        1.0                   1.0     6    sim   \n",
              "3  Porto Alegre   51.0      2.0        1.0                   0.0     2    sim   \n",
              "4     São Paulo   25.0      1.0        1.0                   0.0     1    nao   \n",
              "\n",
              "  mobiliado  taxa_condominio  preco_aluguel  taxa_iptu  taxa_incendio  \\\n",
              "0       sim           2065.0         3300.0      211.0           42.0   \n",
              "1       nao           1200.0         4960.0     1750.0           63.0   \n",
              "2       nao           1000.0         2800.0        0.0           41.0   \n",
              "3       nao            270.0         1112.0       22.0           17.0   \n",
              "4       nao              0.0          800.0       25.0           11.0   \n",
              "\n",
              "   total_aluguel  \n",
              "0         5618.0  \n",
              "1         7973.0  \n",
              "2         3841.0  \n",
              "3         1421.0  \n",
              "4          836.0  "
            ],
            "text/html": [
              "\n",
              "  <div id=\"df-4d1811ef-0236-49f1-8533-81507faa8dd4\">\n",
              "    <div class=\"colab-df-container\">\n",
              "      <div>\n",
              "<style scoped>\n",
              "    .dataframe tbody tr th:only-of-type {\n",
              "        vertical-align: middle;\n",
              "    }\n",
              "\n",
              "    .dataframe tbody tr th {\n",
              "        vertical-align: top;\n",
              "    }\n",
              "\n",
              "    .dataframe thead th {\n",
              "        text-align: right;\n",
              "    }\n",
              "</style>\n",
              "<table border=\"1\" class=\"dataframe\">\n",
              "  <thead>\n",
              "    <tr style=\"text-align: right;\">\n",
              "      <th></th>\n",
              "      <th>cidade</th>\n",
              "      <th>area</th>\n",
              "      <th>quartos</th>\n",
              "      <th>banheiros</th>\n",
              "      <th>vagas_estacionamento</th>\n",
              "      <th>andar</th>\n",
              "      <th>animal</th>\n",
              "      <th>mobiliado</th>\n",
              "      <th>taxa_condominio</th>\n",
              "      <th>preco_aluguel</th>\n",
              "      <th>taxa_iptu</th>\n",
              "      <th>taxa_incendio</th>\n",
              "      <th>total_aluguel</th>\n",
              "    </tr>\n",
              "  </thead>\n",
              "  <tbody>\n",
              "    <tr>\n",
              "      <th>0</th>\n",
              "      <td>São Paulo</td>\n",
              "      <td>70.0</td>\n",
              "      <td>2.0</td>\n",
              "      <td>1.0</td>\n",
              "      <td>1.0</td>\n",
              "      <td>7</td>\n",
              "      <td>sim</td>\n",
              "      <td>sim</td>\n",
              "      <td>2065.0</td>\n",
              "      <td>3300.0</td>\n",
              "      <td>211.0</td>\n",
              "      <td>42.0</td>\n",
              "      <td>5618.0</td>\n",
              "    </tr>\n",
              "    <tr>\n",
              "      <th>1</th>\n",
              "      <td>São Paulo</td>\n",
              "      <td>320.0</td>\n",
              "      <td>4.0</td>\n",
              "      <td>4.0</td>\n",
              "      <td>0.0</td>\n",
              "      <td>20</td>\n",
              "      <td>sim</td>\n",
              "      <td>nao</td>\n",
              "      <td>1200.0</td>\n",
              "      <td>4960.0</td>\n",
              "      <td>1750.0</td>\n",
              "      <td>63.0</td>\n",
              "      <td>7973.0</td>\n",
              "    </tr>\n",
              "    <tr>\n",
              "      <th>2</th>\n",
              "      <td>Porto Alegre</td>\n",
              "      <td>80.0</td>\n",
              "      <td>1.0</td>\n",
              "      <td>1.0</td>\n",
              "      <td>1.0</td>\n",
              "      <td>6</td>\n",
              "      <td>sim</td>\n",
              "      <td>nao</td>\n",
              "      <td>1000.0</td>\n",
              "      <td>2800.0</td>\n",
              "      <td>0.0</td>\n",
              "      <td>41.0</td>\n",
              "      <td>3841.0</td>\n",
              "    </tr>\n",
              "    <tr>\n",
              "      <th>3</th>\n",
              "      <td>Porto Alegre</td>\n",
              "      <td>51.0</td>\n",
              "      <td>2.0</td>\n",
              "      <td>1.0</td>\n",
              "      <td>0.0</td>\n",
              "      <td>2</td>\n",
              "      <td>sim</td>\n",
              "      <td>nao</td>\n",
              "      <td>270.0</td>\n",
              "      <td>1112.0</td>\n",
              "      <td>22.0</td>\n",
              "      <td>17.0</td>\n",
              "      <td>1421.0</td>\n",
              "    </tr>\n",
              "    <tr>\n",
              "      <th>4</th>\n",
              "      <td>São Paulo</td>\n",
              "      <td>25.0</td>\n",
              "      <td>1.0</td>\n",
              "      <td>1.0</td>\n",
              "      <td>0.0</td>\n",
              "      <td>1</td>\n",
              "      <td>nao</td>\n",
              "      <td>nao</td>\n",
              "      <td>0.0</td>\n",
              "      <td>800.0</td>\n",
              "      <td>25.0</td>\n",
              "      <td>11.0</td>\n",
              "      <td>836.0</td>\n",
              "    </tr>\n",
              "  </tbody>\n",
              "</table>\n",
              "</div>\n",
              "      <button class=\"colab-df-convert\" onclick=\"convertToInteractive('df-4d1811ef-0236-49f1-8533-81507faa8dd4')\"\n",
              "              title=\"Convert this dataframe to an interactive table.\"\n",
              "              style=\"display:none;\">\n",
              "        \n",
              "  <svg xmlns=\"http://www.w3.org/2000/svg\" height=\"24px\"viewBox=\"0 0 24 24\"\n",
              "       width=\"24px\">\n",
              "    <path d=\"M0 0h24v24H0V0z\" fill=\"none\"/>\n",
              "    <path d=\"M18.56 5.44l.94 2.06.94-2.06 2.06-.94-2.06-.94-.94-2.06-.94 2.06-2.06.94zm-11 1L8.5 8.5l.94-2.06 2.06-.94-2.06-.94L8.5 2.5l-.94 2.06-2.06.94zm10 10l.94 2.06.94-2.06 2.06-.94-2.06-.94-.94-2.06-.94 2.06-2.06.94z\"/><path d=\"M17.41 7.96l-1.37-1.37c-.4-.4-.92-.59-1.43-.59-.52 0-1.04.2-1.43.59L10.3 9.45l-7.72 7.72c-.78.78-.78 2.05 0 2.83L4 21.41c.39.39.9.59 1.41.59.51 0 1.02-.2 1.41-.59l7.78-7.78 2.81-2.81c.8-.78.8-2.07 0-2.86zM5.41 20L4 18.59l7.72-7.72 1.47 1.35L5.41 20z\"/>\n",
              "  </svg>\n",
              "      </button>\n",
              "      \n",
              "  <style>\n",
              "    .colab-df-container {\n",
              "      display:flex;\n",
              "      flex-wrap:wrap;\n",
              "      gap: 12px;\n",
              "    }\n",
              "\n",
              "    .colab-df-convert {\n",
              "      background-color: #E8F0FE;\n",
              "      border: none;\n",
              "      border-radius: 50%;\n",
              "      cursor: pointer;\n",
              "      display: none;\n",
              "      fill: #1967D2;\n",
              "      height: 32px;\n",
              "      padding: 0 0 0 0;\n",
              "      width: 32px;\n",
              "    }\n",
              "\n",
              "    .colab-df-convert:hover {\n",
              "      background-color: #E2EBFA;\n",
              "      box-shadow: 0px 1px 2px rgba(60, 64, 67, 0.3), 0px 1px 3px 1px rgba(60, 64, 67, 0.15);\n",
              "      fill: #174EA6;\n",
              "    }\n",
              "\n",
              "    [theme=dark] .colab-df-convert {\n",
              "      background-color: #3B4455;\n",
              "      fill: #D2E3FC;\n",
              "    }\n",
              "\n",
              "    [theme=dark] .colab-df-convert:hover {\n",
              "      background-color: #434B5C;\n",
              "      box-shadow: 0px 1px 3px 1px rgba(0, 0, 0, 0.15);\n",
              "      filter: drop-shadow(0px 1px 2px rgba(0, 0, 0, 0.3));\n",
              "      fill: #FFFFFF;\n",
              "    }\n",
              "  </style>\n",
              "\n",
              "      <script>\n",
              "        const buttonEl =\n",
              "          document.querySelector('#df-4d1811ef-0236-49f1-8533-81507faa8dd4 button.colab-df-convert');\n",
              "        buttonEl.style.display =\n",
              "          google.colab.kernel.accessAllowed ? 'block' : 'none';\n",
              "\n",
              "        async function convertToInteractive(key) {\n",
              "          const element = document.querySelector('#df-4d1811ef-0236-49f1-8533-81507faa8dd4');\n",
              "          const dataTable =\n",
              "            await google.colab.kernel.invokeFunction('convertToInteractive',\n",
              "                                                     [key], {});\n",
              "          if (!dataTable) return;\n",
              "\n",
              "          const docLinkHtml = 'Like what you see? Visit the ' +\n",
              "            '<a target=\"_blank\" href=https://colab.research.google.com/notebooks/data_table.ipynb>data table notebook</a>'\n",
              "            + ' to learn more about interactive tables.';\n",
              "          element.innerHTML = '';\n",
              "          dataTable['output_type'] = 'display_data';\n",
              "          await google.colab.output.renderOutput(dataTable, element);\n",
              "          const docLink = document.createElement('div');\n",
              "          docLink.innerHTML = docLinkHtml;\n",
              "          element.appendChild(docLink);\n",
              "        }\n",
              "      </script>\n",
              "    </div>\n",
              "  </div>\n",
              "  "
            ]
          },
          "metadata": {},
          "execution_count": 38
        }
      ]
    },
    {
      "cell_type": "code",
      "source": [
        "df['mobiliado'].value_counts()"
      ],
      "metadata": {
        "colab": {
          "base_uri": "https://localhost:8080/"
        },
        "id": "aKUeHZHfP5WI",
        "outputId": "71fc4bdd-bb0f-4814-e82b-78de6038d7e5"
      },
      "execution_count": 39,
      "outputs": [
        {
          "output_type": "execute_result",
          "data": {
            "text/plain": [
              "nao    8086\n",
              "sim    2606\n",
              "Name: mobiliado, dtype: int64"
            ]
          },
          "metadata": {},
          "execution_count": 39
        }
      ]
    },
    {
      "cell_type": "code",
      "source": [
        "df.groupby('mobiliado')['total_aluguel'].mean().round(2)"
      ],
      "metadata": {
        "colab": {
          "base_uri": "https://localhost:8080/"
        },
        "id": "0QUtFTNqP0jd",
        "outputId": "4c9d27fc-82ca-49a4-9363-cfcf2fc9a09a"
      },
      "execution_count": 41,
      "outputs": [
        {
          "output_type": "execute_result",
          "data": {
            "text/plain": [
              "mobiliado\n",
              "nao    5136.93\n",
              "sim    6587.51\n",
              "Name: total_aluguel, dtype: float64"
            ]
          },
          "metadata": {},
          "execution_count": 41
        }
      ]
    },
    {
      "cell_type": "code",
      "source": [
        "plt.figure(figsize=(15,5))\n",
        "sns.barplot(x=df['cidade'] , y=df['total_aluguel'], hue=df['mobiliado'], ci=False, estimator=np.mean)"
      ],
      "metadata": {
        "colab": {
          "base_uri": "https://localhost:8080/",
          "height": 264
        },
        "id": "hrfhGAF1QDqd",
        "outputId": "7bbe2e43-74c4-4e39-8b58-65ab2539fd21"
      },
      "execution_count": 44,
      "outputs": [
        {
          "output_type": "execute_result",
          "data": {
            "text/plain": [
              "<matplotlib.axes._subplots.AxesSubplot at 0x7f0482889c10>"
            ]
          },
          "metadata": {},
          "execution_count": 44
        },
        {
          "output_type": "display_data",
          "data": {
            "text/plain": [
              "<Figure size 1080x360 with 1 Axes>"
            ],
            "image/png": "[encoded data removed]"
          },
          "metadata": {}
        }
      ]
    },
    {
      "cell_type": "markdown",
      "source": [
        "## **Etapa 4: Apresentação**"
      ],
      "metadata": {
        "id": "n7Ux9StSRtPv"
      }
    },
    {
      "cell_type": "markdown",
      "source": [
        "Em quais cidades se concentram a maior quantidade de casas?"
      ],
      "metadata": {
        "id": "2uW-S8l0R64n"
      }
    },
    {
      "cell_type": "markdown",
      "source": [
        "![Questao1.png](data:image/png;base64,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)"
      ],
      "metadata": {
        "id": "kp4K1QsVSI0E"
      }
    },
    {
      "cell_type": "markdown",
      "source": [
        "Em quais cidades estão os imóveis com maior preço de aluguel?"
      ],
      "metadata": {
        "id": "VMwSuNlJSK9A"
      }
    },
    {
      "cell_type": "markdown",
      "source": [
        "![Questao2.png](data:image/png;base64,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)"
      ],
      "metadata": {
        "id": "Jx7muWYqSNKi"
      }
    },
    {
      "cell_type": "markdown",
      "source": [
        "Ter animais impacta no preço do aluguel?"
      ],
      "metadata": {
        "id": "poPyiC6QSPIS"
      }
    },
    {
      "cell_type": "markdown",
      "source": [
        "![Questao3.png](data:image/png;base64,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)"
      ],
      "metadata": {
        "id": "15TNd_K3SRz5"
      }
    },
    {
      "cell_type": "markdown",
      "source": [
        "As casas mobiliadas possuem um preço de aluguel mais alto?"
      ],
      "metadata": {
        "id": "TNEcneXmSVlY"
      }
    },
    {
      "cell_type": "markdown",
      "source": [
        "![Questao4.png](data:image/png;base64,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)"
      ],
      "metadata": {
        "id": "nV_k6Zn0SXOQ"
      }
    }
  ]
}